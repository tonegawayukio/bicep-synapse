{
  "cells": [
    {
      "cell_type": "code",
      "execution_count": 1,
      "metadata": {},
      "outputs": [],
      "source": [
        "import pandas as pd\n",
        "import numpy as np\n",
        "import pyspark as ps"
      ]
    },
    {
      "cell_type": "code",
      "execution_count": null,
      "metadata": {
        "jupyter": {
          "outputs_hidden": false,
          "source_hidden": false
        },
        "nteract": {
          "transient": {
            "deleting": false
          }
        }
      },
      "outputs": [],
      "source": [
        "# Azure storage access info\n",
        "abfs_account_name = '_storage_account_' # replace with your storage account name\n",
        "abfs_container_name = 'dl2' # replace with your container name\n",
        "linked_service_name = '_linked_service_name_' # replace with your linked service name\n",
        "\n",
        "\n",
        "abfs_sas_token = mssparkutils.credentials.getConnectionStringOrCreds(linked_service_name)\n",
        "\n",
        "# Allow SPARK to access from DataLake Gen2  remotely\n",
        "\n",
        "uri = f\"abfss://{abfs_container_name}@{abfs_account_name}.dfs.core.windows.net\""
      ]
    },
    {
      "cell_type": "code",
      "execution_count": 2,
      "metadata": {
        "jupyter": {
          "outputs_hidden": false,
          "source_hidden": false
        },
        "nteract": {
          "transient": {
            "deleting": false
          }
        }
      },
      "outputs": [],
      "source": [
        "# Enable Arrow-based columnar data transfers\n",
        "spark.conf.set(\"spark.sql.execution.arrow.enabled\", \"true\")"
      ]
    },
    {
      "cell_type": "code",
      "execution_count": 3,
      "metadata": {
        "jupyter": {
          "outputs_hidden": false,
          "source_hidden": false
        },
        "nteract": {
          "transient": {
            "deleting": false
          }
        }
      },
      "outputs": [],
      "source": [
        "items: pd.DataFrame = pd.DataFrame(\n",
        "    {\n",
        "        \"id\": [1, 2, 3],\n",
        "        \"name\": [\"apple\", \"orange\", \"banana\"],\n",
        "        \"price\": [100, 120, 80]\n",
        "    }\n",
        ")"
      ]
    },
    {
      "cell_type": "code",
      "execution_count": 4,
      "metadata": {
        "jupyter": {
          "outputs_hidden": false,
          "source_hidden": false
        },
        "nteract": {
          "transient": {
            "deleting": false
          }
        }
      },
      "outputs": [],
      "source": [
        "items"
      ]
    },
    {
      "cell_type": "code",
      "execution_count": 5,
      "metadata": {
        "jupyter": {
          "outputs_hidden": false,
          "source_hidden": false
        },
        "nteract": {
          "transient": {
            "deleting": false
          }
        }
      },
      "outputs": [],
      "source": [
        "users: pd.DataFrame = pd.DataFrame(\n",
        "    {\n",
        "        \"id\": [1, 2, 3],\n",
        "        \"name\": [\"taro\", \"hanako\", \"john\"],\n",
        "    }\n",
        ")"
      ]
    },
    {
      "cell_type": "code",
      "execution_count": 6,
      "metadata": {
        "jupyter": {
          "outputs_hidden": false,
          "source_hidden": false
        },
        "nteract": {
          "transient": {
            "deleting": false
          }
        }
      },
      "outputs": [],
      "source": [
        "users"
      ]
    },
    {
      "cell_type": "code",
      "execution_count": 7,
      "metadata": {
        "jupyter": {
          "outputs_hidden": false,
          "source_hidden": false
        },
        "nteract": {
          "transient": {
            "deleting": false
          }
        }
      },
      "outputs": [],
      "source": [
        "purchases: pd.DataFrame = pd.DataFrame(\n",
        "    {\n",
        "        \"id\": [i for i in range(100)],\n",
        "        \"user_id\": np.random.choice([1, 2, 3], 100),\n",
        "        \"item_id\": np.random.choice([1, 2, 3], 100),\n",
        "        \"quantity\": np.random.choice([i for i in range(1, 5)], 100)\n",
        "    }\n",
        ")"
      ]
    },
    {
      "cell_type": "code",
      "execution_count": 8,
      "metadata": {
        "jupyter": {
          "outputs_hidden": false,
          "source_hidden": false
        },
        "nteract": {
          "transient": {
            "deleting": false
          }
        }
      },
      "outputs": [],
      "source": [
        "purchases"
      ]
    },
    {
      "cell_type": "code",
      "execution_count": 9,
      "metadata": {
        "jupyter": {
          "outputs_hidden": false,
          "source_hidden": false
        },
        "nteract": {
          "transient": {
            "deleting": false
          }
        }
      },
      "outputs": [],
      "source": [
        "items_spark: ps.sql.DataFrame = spark.createDataFrame(items)\n",
        "users_spark: ps.sql.DataFrame = spark.createDataFrame(users)\n",
        "purchases_spark: ps.sql.DataFrame = spark.createDataFrame(purchases)"
      ]
    },
    {
      "cell_type": "code",
      "execution_count": 11,
      "metadata": {
        "jupyter": {
          "outputs_hidden": false,
          "source_hidden": false
        },
        "nteract": {
          "transient": {
            "deleting": false
          }
        }
      },
      "outputs": [],
      "source": [
        "items_spark.write.mode(\"overwrite\").parquet(f\"{uri}/parquet/items.parquet\")\n",
        "users_spark.write.mode(\"overwrite\").parquet(f\"{uri}/parquet/users.parquet\")\n",
        "purchases_spark.write.mode(\"overwrite\").parquet(f\"{uri}/parquet/purchases.parquet\")"
      ]
    },
    {
      "cell_type": "code",
      "execution_count": 12,
      "metadata": {
        "jupyter": {
          "outputs_hidden": false,
          "source_hidden": false
        },
        "nteract": {
          "transient": {
            "deleting": false
          }
        }
      },
      "outputs": [],
      "source": [
        "items_spark.write.mode(\"overwrite\").csv(f\"{uri}/source/items.csv\")\n",
        "users_spark.write.mode(\"overwrite\").csv(f\"{uri}/source/users.csv\")\n",
        "purchases_spark.write.mode(\"overwrite\").csv(f\"{uri}/source/purchases.csv\")"
      ]
    },
    {
      "cell_type": "code",
      "execution_count": null,
      "metadata": {
        "jupyter": {
          "outputs_hidden": false,
          "source_hidden": false
        },
        "nteract": {
          "transient": {
            "deleting": false
          }
        }
      },
      "outputs": [],
      "source": []
    }
  ],
  "metadata": {
    "kernelspec": {
      "display_name": "Synapse PySpark",
      "name": "synapse_pyspark"
    },
    "language_info": {
      "name": "python"
    },
    "save_output": true,
    "synapse_widget": {
      "state": {},
      "version": "0.1"
    }
  },
  "nbformat": 4,
  "nbformat_minor": 2
}
