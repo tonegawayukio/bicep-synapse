{
  "cells": [
    {
      "cell_type": "markdown",
      "source": [
        "# CSVファイルの取り込み"
      ],
      "metadata": {
        "nteract": {
          "transient": {
            "deleting": false
          }
        }
      }
    },
    {
      "cell_type": "markdown",
      "source": [
        "## 認証情報をSpark コンフィグレーションへセット"
      ],
      "metadata": {
        "nteract": {
          "transient": {
            "deleting": false
          }
        }
      }
    },
    {
      "cell_type": "code",
      "source": [
        "from pyspark.sql import SparkSession\n",
        "\n",
        "# Azure storage access info\n",
        "abfs_account_name = '_storage_account_' # replace with your storage account name\n",
        "abfs_container_name = 'dl2' # replace with your container name\n",
        "linked_service_name = '_linked_service_name_' # replace with your linked service name\n",
        "\n",
        "abfs_sas_token = mssparkutils.credentials.getConnectionStringOrCreds(linked_service_name)\n",
        "\n",
        "# Allow SPARK to access from DataLake Gen2  remotely\n",
        "\n",
        "dl2Uri = f\"abfss://{abfs_container_name}@{abfs_account_name}.dfs.core.windows.net\"\n",
        "\n",
        "print('Remote Data Lake Gen2 path: ' + dl2Uri)"
      ],
      "outputs": [],
      "execution_count": null,
      "metadata": {
        "jupyter": {
          "source_hidden": false,
          "outputs_hidden": false
        },
        "nteract": {
          "transient": {
            "deleting": false
          }
        },
        "collapsed": true
      }
    },
    {
      "cell_type": "markdown",
      "source": [
        "## CSV ファイルの読み込み"
      ],
      "metadata": {
        "nteract": {
          "transient": {
            "deleting": false
          }
        }
      }
    },
    {
      "cell_type": "code",
      "source": [
        "shiresaki = spark.read.format(\"csv\").option(\"header\", \"false\").option(\"mode\", \"DROPMALFORMED\").load(f\"{dl2Uri}/sample/仕入先/\")\r\n",
        "zyuchu = spark.read.format(\"csv\").option(\"header\", \"false\").option(\"mode\", \"DROPMALFORMED\").load(f\"{dl2Uri}/sample/受注/\")\r\n",
        "zyuchumeisai = spark.read.format(\"csv\").option(\"header\", \"false\").option(\"mode\", \"DROPMALFORMED\").load(f\"{dl2Uri}/sample/受注明細/\")\r\n",
        "shohin = spark.read.format(\"csv\").option(\"header\", \"false\").option(\"mode\", \"DROPMALFORMED\").load(f\"{dl2Uri}/sample/商品/\")\r\n",
        "shohinkubun = spark.read.format(\"csv\").option(\"header\", \"false\").option(\"mode\", \"DROPMALFORMED\").load(f\"{dl2Uri}/sample/商品区分/\")\r\n",
        "tokuisaki = spark.read.format(\"csv\").option(\"header\", \"false\").option(\"mode\", \"DROPMALFORMED\").load(f\"{dl2Uri}/sample/得意先/\")\r\n",
        "shain = spark.read.format(\"csv\").option(\"header\", \"false\").option(\"mode\", \"DROPMALFORMED\").load(f\"{dl2Uri}/sample/社員/\")\r\n",
        "unso = spark.read.format(\"csv\").option(\"header\", \"false\").option(\"mode\", \"DROPMALFORMED\").load(f\"{dl2Uri}/sample/運送会社/\")\r\n",
        "todofuken = spark.read.format(\"csv\").option(\"header\", \"false\").option(\"mode\", \"DROPMALFORMED\").load(f\"{dl2Uri}/sample/都道府県/\")"
      ],
      "outputs": [],
      "execution_count": null,
      "metadata": {
        "jupyter": {
          "source_hidden": false,
          "outputs_hidden": false
        },
        "nteract": {
          "transient": {
            "deleting": false
          }
        },
        "collapsed": true
      }
    },
    {
      "cell_type": "markdown",
      "source": [
        "## カラム名の設定"
      ],
      "metadata": {
        "nteract": {
          "transient": {
            "deleting": false
          }
        }
      }
    },
    {
      "cell_type": "code",
      "source": [
        "shiresaki = shiresaki.withColumnRenamed(\"_c0\", \"仕入先コード\") \\\r\n",
        "                     .withColumnRenamed(\"_c1\", \"フリガナ\") \\\r\n",
        "                     .withColumnRenamed(\"_c2\", \"仕入先名\") \\\r\n",
        "                     .withColumnRenamed(\"_c3\", \"担当者名\") \\\r\n",
        "                     .withColumnRenamed(\"_c4\", \"部署\") \\\r\n",
        "                     .withColumnRenamed(\"_c5\", \"郵便番号\") \\\r\n",
        "                     .withColumnRenamed(\"_c6\", \"トドウフケン\") \\\r\n",
        "                     .withColumnRenamed(\"_c7\", \"都道府県\") \\\r\n",
        "                     .withColumnRenamed(\"_c8\", \"住所1\") \\\r\n",
        "                     .withColumnRenamed(\"_c9\", \"住所2\") \\\r\n",
        "                     .withColumnRenamed(\"_c10\", \"電話番号\") \\\r\n",
        "                     .withColumnRenamed(\"_c11\", \"ファクシミリ\") \\\r\n",
        "                     .withColumnRenamed(\"_c12\", \"ホームページ\")\r\n",
        "\r\n",
        "zyuchu = zyuchu.withColumnRenamed(\"_c0\", \"受注コード\") \\\r\n",
        "               .withColumnRenamed(\"_c1\", \"得意先コード\") \\\r\n",
        "               .withColumnRenamed(\"_c2\", \"社員コード\") \\\r\n",
        "               .withColumnRenamed(\"_c3\", \"出荷先名\") \\\r\n",
        "               .withColumnRenamed(\"_c4\", \"出荷先郵便番号\") \\\r\n",
        "               .withColumnRenamed(\"_c5\", \"出荷先都道府県\") \\\r\n",
        "               .withColumnRenamed(\"_c6\", \"出荷先住所1\") \\\r\n",
        "               .withColumnRenamed(\"_c7\", \"出荷先住所2\") \\\r\n",
        "               .withColumnRenamed(\"_c8\", \"運送区分\") \\\r\n",
        "               .withColumnRenamed(\"_c9\", \"受注日\") \\\r\n",
        "               .withColumnRenamed(\"_c10\", \"締切日\") \\\r\n",
        "               .withColumnRenamed(\"_c11\", \"出荷日\") \\\r\n",
        "               .withColumnRenamed(\"_c12\", \"運送料\")\r\n",
        "\r\n",
        "\r\n",
        "zyuchumeisai = zyuchumeisai.withColumnRenamed(\"_c0\", \"受注コード\") \\\r\n",
        "                           .withColumnRenamed(\"_c1\", \"商品コード\") \\\r\n",
        "                           .withColumnRenamed(\"_c2\", \"単価\") \\\r\n",
        "                           .withColumnRenamed(\"_c3\", \"数量\") \\\r\n",
        "                           .withColumnRenamed(\"_c4\", \"割引\")\r\n",
        "\r\n",
        "\r\n",
        "shohin = shohin.withColumnRenamed(\"_c0\", \"商品コード\") \\\r\n",
        "               .withColumnRenamed(\"_c1\", \"フリガナ\") \\\r\n",
        "               .withColumnRenamed(\"_c2\", \"商品名\") \\\r\n",
        "               .withColumnRenamed(\"_c3\", \"仕入先コード\") \\\r\n",
        "               .withColumnRenamed(\"_c4\", \"区分コード\") \\\r\n",
        "               .withColumnRenamed(\"_c5\", \"梱包単位\") \\\r\n",
        "               .withColumnRenamed(\"_c6\", \"単価\") \\\r\n",
        "               .withColumnRenamed(\"_c7\", \"在庫\") \\\r\n",
        "               .withColumnRenamed(\"_c8\", \"発注済\") \\\r\n",
        "               .withColumnRenamed(\"_c9\", \"発注点\") \\\r\n",
        "               .withColumnRenamed(\"_c10\", \"生産中止\")\r\n",
        "\r\n",
        "\r\n",
        "shohinkubun = shohinkubun.withColumnRenamed(\"_c0\", \"区分コード\") \\\r\n",
        "                         .withColumnRenamed(\"_c1\", \"区分名\") \\\r\n",
        "                         .withColumnRenamed(\"_c2\", \"商品名\") \\\r\n",
        "                         .withColumnRenamed(\"_c3\", \"説明\") \\\r\n",
        "                         .withColumnRenamed(\"_c4\", \"図\")\r\n",
        "\r\n",
        "\r\n",
        "tokuisaki = tokuisaki.withColumnRenamed(\"_c0\", \"得意先コード\") \\\r\n",
        "               .withColumnRenamed(\"_c1\", \"フリガナ\") \\\r\n",
        "               .withColumnRenamed(\"_c2\", \"得意先名\") \\\r\n",
        "               .withColumnRenamed(\"_c3\", \"担当者名\") \\\r\n",
        "               .withColumnRenamed(\"_c4\", \"部署\") \\\r\n",
        "               .withColumnRenamed(\"_c5\", \"郵便番号\") \\\r\n",
        "               .withColumnRenamed(\"_c6\", \"トドウフケン\") \\\r\n",
        "               .withColumnRenamed(\"_c7\", \"都道府県\") \\\r\n",
        "               .withColumnRenamed(\"_c8\", \"住所1\") \\\r\n",
        "               .withColumnRenamed(\"_c9\", \"住所2\") \\\r\n",
        "               .withColumnRenamed(\"_c10\", \"電話番号\") \\\r\n",
        "               .withColumnRenamed(\"_c11\", \"ファクシミリ\")\r\n",
        "\r\n",
        "\r\n",
        "shain = shain.withColumnRenamed(\"_c0\", \"社員コード\") \\\r\n",
        "             .withColumnRenamed(\"_c1\", \"フリガナ\") \\\r\n",
        "             .withColumnRenamed(\"_c2\", \"氏名\") \\\r\n",
        "             .withColumnRenamed(\"_c3\", \"在籍支社\") \\\r\n",
        "             .withColumnRenamed(\"_c4\", \"部署名\") \\\r\n",
        "             .withColumnRenamed(\"_c5\", \"誕生日\") \\\r\n",
        "             .withColumnRenamed(\"_c6\", \"入社日\") \\\r\n",
        "             .withColumnRenamed(\"_c7\", \"自宅郵便番号\") \\\r\n",
        "             .withColumnRenamed(\"_c8\", \"自宅都道府県\") \\\r\n",
        "             .withColumnRenamed(\"_c9\", \"自宅住所1\") \\\r\n",
        "             .withColumnRenamed(\"_c10\", \"自宅住所2\") \\\r\n",
        "             .withColumnRenamed(\"_c11\", \"自宅電話番号\") \\\r\n",
        "             .withColumnRenamed(\"_c11\", \"内線\") \\\r\n",
        "             .withColumnRenamed(\"_c11\", \"写真\") \\\r\n",
        "             .withColumnRenamed(\"_c12\", \"プロフィール1\") \\\r\n",
        "             .withColumnRenamed(\"_c13\", \"プロフィール2\") \\\r\n",
        "             .withColumnRenamed(\"_c14\", \"プロフィール3\")\r\n",
        "\r\n",
        "\r\n",
        "unso = unso.withColumnRenamed(\"_c0\", \"運送コード\") \\\r\n",
        "           .withColumnRenamed(\"_c1\", \"運送会社\") \\\r\n",
        "           .withColumnRenamed(\"_c2\", \"電話番号\")\r\n",
        "\r\n",
        "\r\n",
        "todofuken = todofuken.withColumnRenamed(\"_c0\", \"トドウフケン\") \\\r\n",
        "           .withColumnRenamed(\"_c1\", \"都道府県\") \\\r\n",
        "           .withColumnRenamed(\"_c2\", \"ローマ字\") \\\r\n",
        "           .withColumnRenamed(\"_c3\", \"地域名ローマ字\") \\\r\n",
        "           .withColumnRenamed(\"_c4\", \"地域\")"
      ],
      "outputs": [],
      "execution_count": null,
      "metadata": {
        "jupyter": {
          "source_hidden": false,
          "outputs_hidden": false
        },
        "nteract": {
          "transient": {
            "deleting": false
          }
        },
        "collapsed": true
      }
    },
    {
      "cell_type": "markdown",
      "source": [
        "## 型変換"
      ],
      "metadata": {
        "nteract": {
          "transient": {
            "deleting": false
          }
        }
      }
    },
    {
      "cell_type": "code",
      "source": [
        "from pyspark.sql.types import IntegerType, TimestampType, DecimalType\n",
        "\n",
        "shiresaki = shiresaki.withColumn(\"仕入先コード\",shiresaki.仕入先コード.cast(IntegerType()))\n",
        "\n",
        "zyuchu = zyuchu.withColumn(\"受注コード\", zyuchu.受注コード.cast(IntegerType())) \\\n",
        "               .withColumn(\"得意先コード\", zyuchu.得意先コード.cast(IntegerType())) \\\n",
        "               .withColumn(\"社員コード\", zyuchu.社員コード.cast(IntegerType())) \\\n",
        "               .withColumn(\"受注日\", zyuchu.受注日.cast(TimestampType())) \\\n",
        "               .withColumn(\"締切日\", zyuchu.締切日.cast(TimestampType())) \\\n",
        "               .withColumn(\"出荷日\", zyuchu.出荷日.cast(TimestampType())) \\\n",
        "               .withColumn(\"運送料\", zyuchu.運送料.cast(DecimalType()))\n",
        "\n",
        "zyuchumeisai = zyuchumeisai.withColumn(\"受注コード\", zyuchumeisai.受注コード.cast(IntegerType())) \\\n",
        "                           .withColumn(\"商品コード\", zyuchumeisai.商品コード.cast(IntegerType())) \\\n",
        "                           .withColumn(\"単価\", zyuchumeisai.単価.cast(DecimalType())) \\\n",
        "                           .withColumn(\"数量\", zyuchumeisai.数量.cast(IntegerType())) \\\n",
        "                           .withColumn(\"割引\", zyuchumeisai.割引.cast(DecimalType()))\n",
        "\n",
        "shohin = shohin.withColumn(\"商品コード\", shohin.商品コード.cast(IntegerType())) \\\n",
        "               .withColumn(\"仕入先コード\", shohin.仕入先コード.cast(IntegerType())) \\\n",
        "               .withColumn(\"区分コード\", shohin.区分コード.cast(IntegerType())) \\\n",
        "               .withColumn(\"単価\", shohin.単価.cast(DecimalType())) \\\n",
        "               .withColumn(\"在庫\", shohin.在庫.cast(IntegerType()))\n",
        "\n",
        "\n",
        "shohinkubun = shohinkubun.withColumn(\"区分コード\", shohinkubun.区分コード.cast(IntegerType()))\n",
        "\n",
        "tokuisaki = tokuisaki.withColumn(\"得意先コード\", tokuisaki.得意先コード.cast(IntegerType()))\n",
        "\n",
        "shain = shain.withColumn(\"社員コード\", shain.社員コード.cast(IntegerType())) \\\n",
        "             .withColumn(\"誕生日\", shain.誕生日.cast(TimestampType())) \\\n",
        "             .withColumn(\"入社日\", shain.入社日.cast(TimestampType()))\n",
        "\n",
        "unso = unso.withColumn(\"運送コード\", unso.運送コード.cast(IntegerType()))"
      ],
      "outputs": [],
      "execution_count": null,
      "metadata": {
        "jupyter": {
          "source_hidden": false,
          "outputs_hidden": false
        },
        "nteract": {
          "transient": {
            "deleting": false
          }
        },
        "collapsed": true
      }
    },
    {
      "cell_type": "markdown",
      "source": [
        "## Parquet ファイルのエクスポート"
      ],
      "metadata": {
        "nteract": {
          "transient": {
            "deleting": false
          }
        }
      }
    },
    {
      "cell_type": "code",
      "source": [
        "shiresaki.write.mode('overwrite').parquet(f\"{dl2Uri}/parquet/shiiresaki/\")\r\n",
        "zyuchu.write.mode('overwrite').parquet(f\"{dl2Uri}/parquet/zyuchu/\")\r\n",
        "zyuchumeisai.write.mode('overwrite').parquet(f\"{dl2Uri}/parquet/zyuchumeisai/\")\r\n",
        "shohin.write.mode('overwrite').parquet(f\"{dl2Uri}/parquet/shohin/\")\r\n",
        "shohinkubun.write.mode('overwrite').parquet(f\"{dl2Uri}/parquet/shohinkubun/\")\r\n",
        "tokuisaki.write.mode('overwrite').parquet(f\"{dl2Uri}/parquet/tokuisaki/\")\r\n",
        "shain.write.mode('overwrite').parquet(f\"{dl2Uri}/parquet/shain/\")\r\n",
        "unso.write.mode('overwrite').parquet(f\"{dl2Uri}/parquet/unso/\")\r\n",
        "todofuken.write.mode('overwrite').parquet(f\"{dl2Uri}/parquet/todofuken/\")"
      ],
      "outputs": [],
      "execution_count": null,
      "metadata": {
        "jupyter": {
          "source_hidden": false,
          "outputs_hidden": false
        },
        "nteract": {
          "transient": {
            "deleting": false
          }
        },
        "collapsed": true
      }
    },
    {
      "cell_type": "markdown",
      "source": [
        "## Deltalake ファイルのエクスポート"
      ],
      "metadata": {
        "nteract": {
          "transient": {
            "deleting": false
          }
        }
      }
    },
    {
      "cell_type": "code",
      "source": [
        "shiresaki.write.mode('overwrite').format(\"delta\").option(\"mergeSchema\", \"true\").save(f\"{dl2Uri}/delta/shiiresaki/\")\r\n",
        "zyuchu.write.mode(\"overwrite\").format(\"delta\").option(\"mergeSchema\", \"true\").save(f\"{dl2Uri}/delta/zyuchu/\")\r\n",
        "zyuchumeisai.write.mode(\"overwrite\").format(\"delta\").option(\"mergeSchema\", \"true\").save(f\"{dl2Uri}/delta/zyuchumeisai/\")\r\n",
        "shohin.write.mode(\"overwrite\").format(\"delta\").option(\"mergeSchema\", \"true\").save(f\"{dl2Uri}/delta/shohin/\")\r\n",
        "shohinkubun.write.mode(\"overwrite\").format(\"delta\").option(\"mergeSchema\", \"true\").save(f\"{dl2Uri}/delta/shohinkubun/\")\r\n",
        "tokuisaki.write.mode(\"overwrite\").format(\"delta\").option(\"mergeSchema\", \"true\").save(f\"{dl2Uri}/delta/tokuisaki/\")\r\n",
        "shain.write.mode(\"overwrite\").format(\"delta\").option(\"mergeSchema\", \"true\").save(f\"{dl2Uri}/delta/tokuisaki/\")\r\n",
        "unso.write.mode(\"overwrite\").format(\"delta\").option(\"mergeSchema\", \"true\").save(f\"{dl2Uri}/delta/unso/\")\r\n",
        "todofuken.write.mode(\"overwrite\").format(\"delta\").option(\"mergeSchema\", \"true\").save(f\"{dl2Uri}/delta/todofuken/\")"
      ],
      "outputs": [],
      "execution_count": null,
      "metadata": {
        "jupyter": {
          "source_hidden": false,
          "outputs_hidden": false
        },
        "nteract": {
          "transient": {
            "deleting": false
          }
        }
      }
    },
    {
      "cell_type": "markdown",
      "source": [
        "## ORC ファイルのエクスポート"
      ],
      "metadata": {
        "nteract": {
          "transient": {
            "deleting": false
          }
        }
      }
    },
    {
      "cell_type": "code",
      "source": [
        "shiresaki.write.mode('overwrite').orc(f\"{dl2Uri}/orc/shiiresaki/\")\r\n",
        "zyuchu.write.mode('overwrite').orc(f\"{dl2Uri}/orc/zyuchu/\")\r\n",
        "zyuchumeisai.write.mode('overwrite').orc(f\"{dl2Uri}/orc/zyuchumeisai/\")\r\n",
        "shohin.write.mode('overwrite').orc(f\"{dl2Uri}/orc/shohin/\")\r\n",
        "shohinkubun.write.mode('overwrite').orc(f\"{dl2Uri}/orc/shohinkubun/\")\r\n",
        "tokuisaki.write.mode('overwrite').orc(f\"{dl2Uri}/orc/tokuisaki/\")\r\n",
        "shain.write.mode('overwrite').orc(f\"{dl2Uri}/orc/shain/\")\r\n",
        "unso.write.mode('overwrite').orc(f\"{dl2Uri}/orc/unso/\")\r\n",
        "todofuken.write.mode('overwrite').orc(f\"{dl2Uri}/orc/todofuken/\")"
      ],
      "outputs": [],
      "execution_count": null,
      "metadata": {
        "jupyter": {
          "source_hidden": false,
          "outputs_hidden": false
        },
        "nteract": {
          "transient": {
            "deleting": false
          }
        },
        "collapsed": true
      }
    }
  ],
  "metadata": {
    "kernelspec": {
      "name": "synapse_pyspark",
      "language": "Python",
      "display_name": "Synapse PySpark"
    },
    "language_info": {
      "name": "python"
    },
    "kernel_info": {
      "name": "synapse_pyspark"
    },
    "description": null,
    "save_output": false,
    "synapse_widget": {
      "version": "0.1",
      "state": {}
    }
  },
  "nbformat": 4,
  "nbformat_minor": 2
}